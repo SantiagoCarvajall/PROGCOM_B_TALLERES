{
  "nbformat": 4,
  "nbformat_minor": 0,
  "metadata": {
    "colab": {
      "provenance": []
    },
    "kernelspec": {
      "name": "python3",
      "display_name": "Python 3"
    },
    "language_info": {
      "name": "python"
    }
  },
  "cells": [
    {
      "cell_type": "code",
      "execution_count": null,
      "metadata": {
        "id": "tGys2fyQST4w"
      },
      "outputs": [],
      "source": [
        "clase_1=(\"alumnos1\":[], \"Notas1\":[], \"promedio1\":[])\n",
        "clase_2=(\"alumnos2\":[], \"Notas2\":[], \"promedio2\":[])\n",
        "clase_3=(\"alumnos3\":[], \"Notas3\":[], \"promedio3\":[])\n",
        "n1=int(input(\"Ingrese el número de estudiantes de la clase 1: \"))\n",
        "notas1=int(input(\"Ingrese el número de notas de la clase 1: \"))\n",
        "n2=int(input(\"Ingrese el número de estudiantes de la clase 2: \"))\n",
        "notas2=int(input(\"Ingrese el número de notas de la clase 2: \"))\n",
        "n3=int(input(\"Ingrese el número de estudiantes de la clase 2: \"))\n",
        "notas3=int(input(\"Ingrese el número de notas de la clase 2: \"))\n",
        "clase_1[\"estudiantes1\"]=clase_1[estudiantes1]\n",
        "clase_2[\"estudiantes2\"]=clase_2[estudiantes2]\n",
        "clase_3[\"estudiantes3\"]=clase_3[estudiantes3]"
      ]
    }
  ]
}