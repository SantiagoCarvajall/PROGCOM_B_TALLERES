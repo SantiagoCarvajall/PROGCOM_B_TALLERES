{
  "nbformat": 4,
  "nbformat_minor": 0,
  "metadata": {
    "colab": {
      "name": "PROGRAMACIÓN.ipynb",
      "provenance": []
    },
    "kernelspec": {
      "name": "python3",
      "display_name": "Python 3"
    },
    "language_info": {
      "name": "python"
    }
  },
  "cells": [
    {
      "cell_type": "markdown",
      "source": [
        "**20.\tEscribir un programa que lea un número y defina si es o no un palíndromo.**"
      ],
      "metadata": {
        "id": "40NJ-nvJuVZb"
      }
    },
    {
      "cell_type": "markdown",
      "source": [
        "**19.\tEscribir un programa que lea una palabra y defina si es un palíndromo.**\n"
      ],
      "metadata": {
        "id": "byEE7SmJ6P7j"
      }
    },
    {
      "cell_type": "code",
      "execution_count": 49,
      "metadata": {
        "colab": {
          "base_uri": "https://localhost:8080/"
        },
        "id": "72cnpa5Lq0GM",
        "outputId": "fd270bcc-a411-429f-ed91-b44ba581995e"
      },
      "outputs": [
        {
          "output_type": "stream",
          "name": "stdout",
          "text": [
            "Ingrese una palabra o número: 1221\n",
            "La palabra o número ingresado si es palindromo\n"
          ]
        }
      ],
      "source": [
        "##.lower() convierte el texto en minuscula\n",
        "## [::-1] : rango completo, \"::-1\" invierte el texto\n",
        "## rever, texto variables\n",
        "texto = input(\"Ingrese una palabra o número: \").lower()\n",
        "rever = texto[::-1]\n",
        "if texto == rever:\n",
        "    print(\"La palabra o número ingresado si es palindromo\")\n",
        "else:\n",
        "    print(\"La palabra o número ingresado no es palindromo\")"
      ]
    },
    {
      "cell_type": "markdown",
      "source": [
        "**15.\tEscribir un programa que, dado un número entero, muestre su valor absoluto**"
      ],
      "metadata": {
        "id": "F8SVOGTM7w1h"
      }
    },
    {
      "cell_type": "code",
      "source": [
        "texto = int(input(\"\"))\n",
        "abs(texto) ##abs() numero absoluto\n",
        "\n"
      ],
      "metadata": {
        "colab": {
          "base_uri": "https://localhost:8080/"
        },
        "id": "D6mSLDPT7ubr",
        "outputId": "036eb242-5946-4af2-b0b9-553bcde28293"
      },
      "execution_count": 117,
      "outputs": [
        {
          "name": "stdout",
          "output_type": "stream",
          "text": [
            "-44\n"
          ]
        },
        {
          "output_type": "execute_result",
          "data": {
            "text/plain": [
              "44"
            ]
          },
          "metadata": {},
          "execution_count": 117
        }
      ]
    }
  ]
}