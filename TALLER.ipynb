{
  "nbformat": 4,
  "nbformat_minor": 0,
  "metadata": {
    "colab": {
      "name": "PROGRAMACIÓN.ipynb",
      "provenance": [],
      "collapsed_sections": []
    },
    "kernelspec": {
      "name": "python3",
      "display_name": "Python 3"
    },
    "language_info": {
      "name": "python"
    }
  },
  "cells": [
    {
      "cell_type": "markdown",
      "source": [
        "**20.\tEscribir un programa que lea un número y defina si es o no un palíndromo.** NOTA:ESTE EJERCICIO ESTÁ EN EL CODIGO DEL PUNTO 19, EN ESE CODIGO SE REALIZA PUNTO 19 Y 20)"
      ],
      "metadata": {
        "id": "40NJ-nvJuVZb"
      }
    },
    {
      "cell_type": "markdown",
      "source": [
        "**19.\tEscribir un programa que lea una palabra y defina si es un palíndromo.**\n"
      ],
      "metadata": {
        "id": "byEE7SmJ6P7j"
      }
    },
    {
      "cell_type": "code",
      "execution_count": null,
      "metadata": {
        "colab": {
          "base_uri": "https://localhost:8080/"
        },
        "id": "72cnpa5Lq0GM",
        "outputId": "fd270bcc-a411-429f-ed91-b44ba581995e"
      },
      "outputs": [
        {
          "output_type": "stream",
          "name": "stdout",
          "text": [
            "Ingrese una palabra o número: 1221\n",
            "La palabra o número ingresado si es palindromo\n"
          ]
        }
      ],
      "source": [
        "##.lower() convierte el texto en minuscula\n",
        "## [::-1] : rango completo, \"::-1\" invierte el texto\n",
        "## rever, texto variables\n",
        "texto = input(\"Ingrese una palabra o número: \").lower()\n",
        "rever = texto[::-1]\n",
        "if texto == rever:\n",
        "    print(\"La palabra o número ingresado si es palindromo\")\n",
        "else:\n",
        "    print(\"La palabra o número ingresado no es palindromo\")"
      ]
    },
    {
      "cell_type": "markdown",
      "source": [
        "**15.\tEscribir un programa que, dado un número entero, muestre su valor absoluto**"
      ],
      "metadata": {
        "id": "F8SVOGTM7w1h"
      }
    },
    {
      "cell_type": "code",
      "source": [
        "texto = int(input(\"\"))\n",
        "abs(texto) ##abs() numero absoluto\n",
        "\n"
      ],
      "metadata": {
        "colab": {
          "base_uri": "https://localhost:8080/"
        },
        "id": "D6mSLDPT7ubr",
        "outputId": "036eb242-5946-4af2-b0b9-553bcde28293"
      },
      "execution_count": null,
      "outputs": [
        {
          "name": "stdout",
          "output_type": "stream",
          "text": [
            "-44\n"
          ]
        },
        {
          "output_type": "execute_result",
          "data": {
            "text/plain": [
              "44"
            ]
          },
          "metadata": {},
          "execution_count": 117
        }
      ]
    },
    {
      "cell_type": "markdown",
      "source": [
        "**1.Escriba un programa que solicite dos números enteros y calcule su división. El programa debe definir si la división es exacta o no. Si no es exacta, debe imprimir cuál es su residuo. ¿Qué debería imprimir el programa si la división es entre cero?**"
      ],
      "metadata": {
        "id": "iCWXCRKK56bz"
      }
    },
    {
      "cell_type": "code",
      "source": [
        "print('Escribe un numero entero: ')\n",
        "nNumero1=int(input())\n",
        "print('Escriba un segundo numero:')\n",
        "nNumero2=int(input())\n",
        "while nNumero2==0:\n",
        "\tprint('No se puede dividir por 0. Inserte otro numero mayor que 0:')\n",
        "\tnNumero2=int(input())\n",
        "division=(nNumero1/nNumero2)\n",
        "modulo=(nNumero1%nNumero2)\n",
        "if modulo==0:\n",
        "\tprint('La division es exacta. El resultado es : cociente= %s' % str(division))\n",
        "else:\n",
        "\tprint('La division no es exacta. El resultado es : cociente= %s y el resto= %s' % (str(division),str(modulo)))"
      ],
      "metadata": {
        "colab": {
          "base_uri": "https://localhost:8080/"
        },
        "id": "7ydAn5Na56vc",
        "outputId": "cd6e07d1-de79-4854-b9df-d8e7d7a01b5e"
      },
      "execution_count": null,
      "outputs": [
        {
          "output_type": "stream",
          "name": "stdout",
          "text": [
            "Escribe un numero entero: \n",
            "1\n",
            "Escriba un segundo numero:\n",
            "0\n",
            "No se puede dividir por 0. Inserte otro numero mayor que 0:\n",
            "1\n",
            "La division es exacta. El resultado es : cociente= 1.0\n"
          ]
        }
      ]
    },
    {
      "cell_type": "markdown",
      "source": [
        "**2.Escriba un programa que pida dos números e indique si uno es múltiplo del otro.** "
      ],
      "metadata": {
        "id": "ysDXirhm8qCj"
      }
    },
    {
      "cell_type": "code",
      "source": [
        "\n",
        "print(\"escribe un numero\")\n",
        "nNumero1=int(input())\n",
        "print(\"escribe un segundo numero\")\n",
        "nNumero2=int(input())\n",
        "division=(nNumero1/nNumero2)\n",
        "if division == 0: \n",
        "\n",
        "    print('El número '+str(nNumero1)+' es multiplo de '+str(nNumero2)+' ')\n",
        "\n",
        "else: \n",
        "\n",
        "    print('El número '+str(nNumero1)+' no es multiplo de '+str(nNumero2)+' ')"
      ],
      "metadata": {
        "colab": {
          "base_uri": "https://localhost:8080/"
        },
        "id": "nSj36-_A8qQz",
        "outputId": "1e7006bb-3678-4f89-9f3f-e94641ad73b1"
      },
      "execution_count": null,
      "outputs": [
        {
          "output_type": "stream",
          "name": "stdout",
          "text": [
            "escribe un numero\n",
            "2\n",
            "escribe un segundo numero\n",
            "2\n",
            "El número 2 no es multiplo de 2 \n"
          ]
        }
      ]
    },
    {
      "cell_type": "markdown",
      "source": [
        "**3.Escriba un programa que ordene, de menor a mayor, las edades de tres hermanos. ¿Qué pasaría si son gemelos? ¿Qué pasaría si son trillizos?**"
      ],
      "metadata": {
        "id": "ms3_6bhoBe1K"
      }
    },
    {
      "cell_type": "code",
      "source": [
        "#.sort() menor a mayor\n",
        "\n",
        "nHermano1=int(input('Escribe la edad del hermano #1: '))\n",
        "nHermano2=int(input('Escribe la edad del hermano #2: '))\n",
        "nHermano3=int(input('Escribe la edad del hermano #3: '))\n",
        "gemelos1 = (nHermano1/nHermano2)\n",
        "gemelos2 = (nHermano1/nHermano3)\n",
        "gemelos3 = (nHermano2/nHermano3)\n",
        "edades = [nHermano1,nHermano2,nHermano3]\n",
        "edades.sort()\n",
        "trillizos = (nHermano1 == nHermano2 == nHermano3)\n",
        "if trillizos:\n",
        "  print(\"LOS HERMANOS SON TRILLIZOS!!!\")\n",
        "\n",
        "elif gemelos2 == 1:\n",
        "   print(\"los hermanos #1 y #3 son gemelos\")\n",
        "   print(\"las edades de ordenadas de menor a mayor son las siguientes: \")\n",
        "   print(edades)\n",
        "\n",
        "elif gemelos3 == 1:\n",
        "  print(\"los hermanos #2 y #3 son gemelos\")\n",
        "  print(\"las edades de ordenadas de menor a mayor son las siguientes: \")\n",
        "  print(edades)\n",
        "\n",
        "elif gemelos1 == 1:\n",
        "  print(\"los hermanos #1 y #2 son gemelos\")\n",
        "  print(\"las edades de ordenadas de menor a mayor son las siguientes: \")\n",
        "  print(edades)\n",
        "\n",
        "else :\n",
        " print(\"las edades de ordenadas de menor a mayor son las siguientes: \")\n",
        " print(edades)\n",
        "\n"
      ],
      "metadata": {
        "colab": {
          "base_uri": "https://localhost:8080/"
        },
        "id": "3lZsCvRUBko5",
        "outputId": "5931b1fa-88e8-4848-a518-202c4ed0817e"
      },
      "execution_count": null,
      "outputs": [
        {
          "output_type": "stream",
          "name": "stdout",
          "text": [
            "Escribe la edad del hermano #1: 3\n",
            "Escribe la edad del hermano #2: 3\n",
            "Escribe la edad del hermano #3: 3\n",
            "LOS HERMANOS SON TRILLIZOS!!!\n"
          ]
        }
      ]
    },
    {
      "cell_type": "markdown",
      "source": [
        "**4.DIAN le ha contratado para identificar si una persona debe pagar impuesto de renta o no. ¿Qué datos debería suministrar? Escriba un programa con su solución**"
      ],
      "metadata": {
        "id": "mUEzcwD_4hsP"
      }
    },
    {
      "cell_type": "code",
      "source": [
        "## INFORMACIÓN TOMADA DE https://www.funcionpublica.gov.co/web/sirvo-a-mi-pais/-/debo-declarar-renta-en-2022-1\n",
        "\n",
        "n1=int(input('¿Cual fué su ingreso anual del año 2021?: '))\n",
        "n2=int(input('¿Cual es el valor de su patrimonio bruto?: '))\n",
        "n3=int(input('¿Cual es el valor total de las compras que ha realizado con tarjeta de credito o débito?: '))\n",
        "n4=int(input('¿Cual es el valor total acumulado de consignaciones bancarias, depósitos o inversiones financieras que realiza?: '))\n",
        "n5=int(input('¿Cual es el valor total de las compras y consumos que realiza?: '))\n",
        "\n",
        "if n2 >= 163386000:\n",
        "  print(\"Usted debe declarar renta debido a que su patrimonio bruto es igual o superior a $163.386.000 \")\n",
        "elif n1 >= 50831000:\n",
        "  print(\"Usted debe declarar renta debido a que su ingreso anual del año 2021 es igual o superior a $50.831.000 \")\n",
        "elif n3 >= 50831000:\n",
        "  print(\"Usted debe declarar renta debido a que el valor las compras que ha realizado con tarjeta de credito o débito es igual o superior a $50.831.000 \")\n",
        "elif n5 >= 50831000:\n",
        "  print(\"usted debe declarar renta debido a que valor total de las compras y consumos que realiza es igual o superior a $50.831.000  \")\n",
        "elif n4 >= 50831000:\n",
        "  print(\"usted debe declarar renta debido a que valor total acumulado de consignaciones bancarias, depósitos o inversiones financieras que realiza es igual o superior a $50.831.000  \")\n",
        "else :\n",
        "  print(\"Usted no debe declarar renta \")"
      ],
      "metadata": {
        "colab": {
          "base_uri": "https://localhost:8080/"
        },
        "id": "EeFXoQr56hOz",
        "outputId": "f3c8defa-6e4d-41a4-b92d-10f005c0befb"
      },
      "execution_count": null,
      "outputs": [
        {
          "output_type": "stream",
          "name": "stdout",
          "text": [
            "¿Cual fué su ingreso anual del año 2021?: 167000000\n",
            "¿Cual es el valor de su patrimonio bruto?: 1\n",
            "¿Cual es el valor total de las compras que ha realizado con tarjeta de credito o débito?: 1\n",
            "¿Cual es el valor total acumulado de consignaciones bancarias, depósitos o inversiones financieras que realiza?: 1\n",
            "¿Cual es el valor total de las compras y consumos que realiza?: 5\n",
            "Usted debe declarar renta debido a que su ingreso anual del año 2021 es igual o superior a $50.831.000 \n"
          ]
        }
      ]
    },
    {
      "cell_type": "markdown",
      "source": [
        "**6.Escriba un programa que le pregunte sus cuatro notas y calcule su promedio actual. Si su promedio es mayor a 4.5, se le diga que está eximido del último examen. Si su nota se encuentra entre 3.5 y 4.5 (intervalo abierto) se le indique que debe presentar el examen. Si la nota se encuentra entre 3 y 3.5 (intervalo abierto), se le indique que adicional al examen, debe presentar un trabajo. Si la nota está entre intervalo abierto entre 2 y 3, decir que debe presentar habilitación. De lo contrario, se le debe indicar al estudiante que perdió la materia irremediablemente.** "
      ],
      "metadata": {
        "id": "P36KL8edp4AV"
      }
    },
    {
      "cell_type": "code",
      "source": [
        "## float() para ingresar decimales\n",
        "\n",
        "nNota1 = float(input(\"ingrese la nota #1: \"))\n",
        "nNota2 = float(input(\"ingrese la nota #2: \"))\n",
        "nNota3 = float(input(\"ingrese la nota #3: \"))\n",
        "nNota4 = float(input(\"ingrese la nota #4: \"))\n",
        "promedio =  (nNota1+nNota2+nNota3+nNota4)/4\n",
        "if promedio > 4.5:\n",
        "  print(\"Su promedio actual es \"+str(promedio)+\"\")\n",
        "  print(\"Por lo tanto se encuentra eximido del último examen\")\n",
        "elif 3.5 < promedio < 4.5:\n",
        "  print(\"Su promedio actual es \"+str(promedio)+\"\")\n",
        "  print(\"Por lo tanto debe presentar el examen\")\n",
        "elif 3.0 < promedio < 3.5:\n",
        "  print(\"Su promedio actual es \"+str(promedio)+\"\")\n",
        "  print(\"Por lo tanto debe presentar el examen y un trabajo adicional\")\n",
        "elif 2.0 < promedio < 3.0:\n",
        "  print(\"Su promedio actual es \"+str(promedio)+\"\")\n",
        "  print(\"Por lo tanto debe presentar habilitación o de lo contrario perderá la materia irremediablemente\")\n"
      ],
      "metadata": {
        "colab": {
          "base_uri": "https://localhost:8080/"
        },
        "id": "sWKZE_0OqCxO",
        "outputId": "b9adab99-3988-46b4-a18c-c72460993ae0"
      },
      "execution_count": null,
      "outputs": [
        {
          "output_type": "stream",
          "name": "stdout",
          "text": [
            "ingrese la nota #1: 2.0\n",
            "ingrese la nota #2: 2\n",
            "ingrese la nota #3: 3\n",
            "ingrese la nota #4: 2\n",
            "Su promedio actual es 2.25\n",
            "Por lo tanto debe presentar habilitación o de lo contrario perderá la materia irremediablemente\n"
          ]
        }
      ]
    },
    {
      "cell_type": "markdown",
      "source": [
        "**8.Escriba un programa que defina si un número es bisiesto. (Un año es bisiesto cuando son múltiplos de 4, pero no son múltiplos de 100).**\n"
      ],
      "metadata": {
        "id": "eMhM47itf-v9"
      }
    },
    {
      "cell_type": "code",
      "source": [
        "año = int(input('Ingrese un numero: '))\n",
        "\n",
        "if año % 4 != 0: #no divisible entre 4\n",
        "\tprint(\"No es bisiesto\")\n",
        "elif año % 4 == 0 and año % 100 != 0: #divisible entre 4 y no entre 100 o 400\n",
        "\tprint(\"Es bisiesto\")\n",
        "elif año % 4 == 0 and año % 100 == 0 and año % 400 != 0: #divisible entre 4 y 10 y no entre 400\n",
        "\tprint(\"No es bisiesto\")\n",
        "elif año % 4 == 0 and año % 100 == 0 and año % 400 == 0: #divisible entre 4, 100 y 400\n",
        "\tprint(\"Es bisiesto\")"
      ],
      "metadata": {
        "colab": {
          "base_uri": "https://localhost:8080/"
        },
        "id": "I_5LU4A9gQ_e",
        "outputId": "c8780bee-d199-463b-c70c-d1442fbfd1ce"
      },
      "execution_count": null,
      "outputs": [
        {
          "output_type": "stream",
          "name": "stdout",
          "text": [
            "Ingrese un numero: 1549\n",
            "No es bisiesto\n"
          ]
        }
      ]
    },
    {
      "cell_type": "markdown",
      "source": [
        "**9.Escriba un programa que solicite los coeficientes de la ecuación de la recta ax+b=0 y escriba la solución.**"
      ],
      "metadata": {
        "id": "2WtCZr6FiWUF"
      }
    },
    {
      "cell_type": "code",
      "source": [
        "print('Escriba el valor de a:')\n",
        "a=int(input())\n",
        "print('Escriba el valor de b: ')\n",
        "b=int(input())\n",
        "if a==0 and b!=0:\n",
        "    print('La ecuacion no tiene solucion')\n",
        "elif a==0 and b==0:\n",
        "    print('Todos los numeros solucionan la ecuacion')\n",
        "else:\n",
        "    incognita=-b/a\n",
        "    print('El valor de x= %s' % str(incognita))"
      ],
      "metadata": {
        "colab": {
          "base_uri": "https://localhost:8080/"
        },
        "id": "YxwnYk1RiaND",
        "outputId": "4b645405-fa4a-494b-ac3b-b677ea122df3"
      },
      "execution_count": null,
      "outputs": [
        {
          "output_type": "stream",
          "name": "stdout",
          "text": [
            "Escriba el valor de a:\n",
            "5\n",
            "Escriba el valor de b: \n",
            "4\n",
            "El valor de x= -0.8\n"
          ]
        }
      ]
    },
    {
      "cell_type": "markdown",
      "source": [
        "**5.Escriba un programa que, de acuerdo al código del estudiante, defina a qué universidad pertenece.**\n",
        "\n",
        "a)Si el código empieza con U y tiene 8 dígitos, pertenece a la UNAB \n",
        "\n",
        "b)Si los cuatro primeros dígitos es mayor a 1950 , pertenece a la UIS. \n",
        "\n",
        "c)Si el código empieza con A y tres ceros seguidos, pertenece a los ANDES. \n",
        "\n",
        "d)1000 exp. adicional: Si el código de la UNAB termina en 26, debe imprimir que es ingeniero electrónico. Si termina en 32, ingeniero de sistemas. Si termina en 50, pertenece a ingeniería de administración de empresas.  \n",
        "\n",
        "e)1000 xp. Adicional: Defina códigos con los dos últimos caracteres para la UIS y ANDES, de las mismas carreras."
      ],
      "metadata": {
        "id": "xODBLkUCjIVE"
      }
    },
    {
      "cell_type": "code",
      "source": [
        "## in para saber si \"\" está dentro de lo ingresado\n",
        "##.lower() convierte el texto en minuscula\n",
        "## para contar digitos len(str(nCodigo))\n",
        "\n",
        "nCodigo = input(\"Escriba su codigo de estudiante \")\n",
        "unab = (\"u\" in nCodigo.lower()[0])\n",
        "andes = (\"a\" in nCodigo.lower()[0])\n",
        "contador = len(str(nCodigo))\n",
        "contador2 = (\"000\" in nCodigo[1:4])\n",
        "ingenieros = int(str(nCodigo)[-2])\n",
        "ingenieros2 = int(str(nCodigo)[-1])\n",
        "\n",
        "if unab == True and contador == 9 and ingenieros == 3 and ingenieros2 == 2:\n",
        "  print(\"El estudiante pertenece a la UNAB y se encuentra en el programa de ingenieria de sistemas\")\n",
        "elif unab == True and contador == 9 and ingenieros == 2 and ingenieros2 == 6:\n",
        "  print(\"El estudiante pertenece a la UNAB y se encuentra en el programa de ingenieria electrónica\")\n",
        "elif unab == True and contador == 9 and ingenieros == 5 and ingenieros2 == 0:\n",
        "  print(\"El estudiante pertenece a la UNAB y se encuentra en el programa de ingenieria de administración de empresas\")\n",
        "elif unab == True and contador == 9:\n",
        "  print(\"El estudiante pertenece a la UNAB\")\n",
        "elif andes == True and contador2 == True and ingenieros == 3 and ingenieros2 == 2:\n",
        "  print(\"El estudiante pertenece a los ANDES y se encuentra en el programa de ingenieria de sistemas\")\n",
        "elif andes == True and contador2 == True and ingenieros == 2 and ingenieros2 == 6:\n",
        "  print(\"El estudiante pertenece a los ANDES y se encuentra en el programa de ingenieria electrónica\")\n",
        "elif andes == True and contador2 == True and ingenieros == 5 and ingenieros2 == 0:\n",
        "  print(\"El estudiante pertenece a los ANDES y se encuentra en el programa de ingenieria de administración de empresas\")  \n",
        "elif andes == True and contador2 == True:\n",
        "  print(\"El estudiante pertenece a los ANDES\")\n",
        "elif (nCodigo.lower().count(\"a\" or \"u\") > 0) == False and int(nCodigo[:4]) > 1950 and ingenieros == 3 and ingenieros2 == 2:\n",
        "  print(\"El estudiante pertenece a la UIS y se encuentra en el programa de ingenieria de sistemas\")\n",
        "elif (nCodigo.lower().count(\"a\" or \"u\") > 0) == False and int(nCodigo[:4]) > 1950 and ingenieros == 2 and ingenieros2 == 6:\n",
        "  print(\"El estudiante pertenece a la UIS y se encuentra en el programa de ingenieria electrónica\")\n",
        "elif (nCodigo.lower().count(\"a\" or \"u\") > 0) == False and int(nCodigo[:4]) > 1950 and ingenieros == 5 and ingenieros2 == 0:\n",
        "  print(\"El estudiante pertenece a la UIS y se encuentra en el programa de ingenieria de administración de empresas\")\n",
        "elif (nCodigo.lower().count(\"a\" or \"u\") > 0) == False and int(nCodigo[:4]) > 1950:\n",
        "  print(\"El estudiante pertenece a la UIS\")\n",
        "else:\n",
        "  print(\"El codigo no es válido\")\n",
        "\n",
        "\n",
        "## EN EL CODIGO TAMBIÉN ESTÁN HECHOS LOS PUNTOS D) Y E)\n",
        "\n"
      ],
      "metadata": {
        "colab": {
          "base_uri": "https://localhost:8080/"
        },
        "id": "jrDfouT9jLgp",
        "outputId": "df23ef9d-2ea0-47ca-eb4e-8acd5b62f48a"
      },
      "execution_count": null,
      "outputs": [
        {
          "output_type": "stream",
          "name": "stdout",
          "text": [
            "Escriba su codigo de estudiante U00140332\n",
            "El estudiante pertenece a la UNAB y se encuentra en el programa de ingenieria de sistemas\n"
          ]
        }
      ]
    },
    {
      "cell_type": "markdown",
      "source": [
        "**13.Realizar programa que permita convertir:**\n",
        "\n",
        "cm a metros \n",
        "\n",
        "cm a km \n",
        "\n",
        "metros a km \n",
        "\n",
        "km a cm \n",
        "\n",
        "km a  m. "
      ],
      "metadata": {
        "id": "wxCStcqI9KaF"
      }
    },
    {
      "cell_type": "code",
      "source": [
        "\n",
        "print('Elige opcion en la que quieres que se expresa la cantidad')\n",
        "raw_input = str('Elige opcion < cm, m, km >:  ')\n",
        "cantidad = str(float(raw_input('indica la cantidad:   ')))\n",
        " \n",
        "if opcion == 'cm':\n",
        "\tprint(cantidad / 100, 'metros')\n",
        "\tprint(cantidad / 1000, 'kilometros')\n",
        " \n",
        "if opcion == 'm':\n",
        "\tprint(cantidad * 100 ,'centimetros')\n",
        "\t\tprint(cantidad / 1000, 'kilometros')\n",
        " \n",
        "if opcion == 'km':\n",
        "\tprint(cantidad * 1000, 'metros')\n",
        "\tprint(cantidad * 100000, 'centimetros')\n",
        " \n",
        " "
      ],
      "metadata": {
        "colab": {
          "base_uri": "https://localhost:8080/",
          "height": 131
        },
        "id": "wF7N14Qh9K8l",
        "outputId": "ffaf4f24-60a4-4ebd-c04f-b7bc1c50abed"
      },
      "execution_count": 1,
      "outputs": [
        {
          "output_type": "error",
          "ename": "IndentationError",
          "evalue": "ignored",
          "traceback": [
            "\u001b[0;36m  File \u001b[0;32m\"<ipython-input-1-18be5f279a75>\"\u001b[0;36m, line \u001b[0;32m11\u001b[0m\n\u001b[0;31m    print(cantidad / 1000, 'kilometros')\u001b[0m\n\u001b[0m    ^\u001b[0m\n\u001b[0;31mIndentationError\u001b[0m\u001b[0;31m:\u001b[0m unexpected indent\n"
          ]
        }
      ]
    },
    {
      "cell_type": "markdown",
      "source": [
        "**18.Escribir un programa que separe un numero en unidades,decenas, centenas**"
      ],
      "metadata": {
        "id": "7MTynSSi7oiy"
      }
    },
    {
      "cell_type": "code",
      "source": [
        "import os\n",
        "\n",
        "numero = int (input ('Ingresa el valor de numero: '))\n",
        "centenas=(numero%1000-numero%100)//100\n",
        "decenas=(numero%100-numero%10)//10\n",
        "unidades=numero%10\n",
        "print ('Valor de centenas: ' + repr (centenas))\n",
        "print ('Valor de decenas: ' + repr (decenas))\n",
        "print ('Valor de unidades: ' + repr (unidades))\n",
        "print ()\n",
        "os.system ('pause')"
      ],
      "metadata": {
        "colab": {
          "base_uri": "https://localhost:8080/"
        },
        "id": "EPYi9Lr_7oxb",
        "outputId": "8f5e54d7-325b-4837-c392-8c5815f1956c"
      },
      "execution_count": 3,
      "outputs": [
        {
          "output_type": "stream",
          "name": "stdout",
          "text": [
            "Ingresa el valor de numero: 123458\n",
            "Valor de centenas: 4\n",
            "Valor de decenas: 5\n",
            "Valor de unidades: 8\n",
            "\n"
          ]
        },
        {
          "output_type": "execute_result",
          "data": {
            "text/plain": [
              "32512"
            ]
          },
          "metadata": {},
          "execution_count": 3
        }
      ]
    }
  ]
}